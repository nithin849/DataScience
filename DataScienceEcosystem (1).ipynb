{
 "cells": [
  {
   "cell_type": "markdown",
   "id": "72907bd5-25a9-4541-a325-8b609ec4c161",
   "metadata": {},
   "source": [
    "__DATA SCIENCE TOOLS AND ECOSYSTEM.__"
   ]
  },
  {
   "cell_type": "markdown",
   "id": "e3d2e822-3a08-413c-9368-1ae45ca57ba0",
   "metadata": {},
   "source": [
    "In this notebook ,Data Science Tools and ecosystem are sumarized."
   ]
  },
  {
   "cell_type": "markdown",
   "id": "071d2ff2-9977-4b71-aca4-0733015b0c6c",
   "metadata": {},
   "source": [
    "Some of the mostly used data scientists use are :  \n",
    "1 : R   \n",
    "2 : Python   \n",
    "3 : Julia   \n",
    "4 : Sql   \n",
    "5 : C++   \n",
    "6 : Java .. so on "
   ]
  },
  {
   "cell_type": "markdown",
   "id": "b33311b4-d321-4c61-93af-873942623ae9",
   "metadata": {},
   "source": [
    "Some of the commonly used libraries by data Scientists are   \n",
    "1. Tensorflow \n",
    "2. Scipy(scientific python) \n",
    "3. pandas(python data analysis) \n",
    "4. Matplotlib \n",
    "5. Keras \n",
    "6. pyTorch \n",
    "7. Scikit-Learn ... so on..."
   ]
  },
  {
   "cell_type": "markdown",
   "id": "e50404d9-326d-4fb2-bdeb-7fef4798c3ea",
   "metadata": {},
   "source": [
    "| Data science tools |\n",
    "|---|\n",
    "|Apache Hadoop|\n",
    "|SAS|\n",
    "|Tensor flow|"
   ]
  },
  {
   "cell_type": "markdown",
   "id": "13e1bdfb-5fe3-455f-94e1-d92698d54c4d",
   "metadata": {},
   "source": [
    "__SOME EXAMPLES ON ARITHMETIC EXPRESSIONS IN PYTHON.__"
   ]
  },
  {
   "cell_type": "code",
   "execution_count": 6,
   "id": "2385bf3a-b237-4480-b4de-ecfb38fc8789",
   "metadata": {},
   "outputs": [
    {
     "data": {
      "text/plain": [
       "17"
      ]
     },
     "execution_count": 6,
     "metadata": {},
     "output_type": "execute_result"
    }
   ],
   "source": [
    "## this is a common arithmetic example to multiply and then add integers.\n",
    "(3*4)+5"
   ]
  },
  {
   "cell_type": "code",
   "execution_count": 7,
   "id": "e973c555-d42f-439c-901e-85632ffe5fcd",
   "metadata": {},
   "outputs": [
    {
     "data": {
      "text/plain": [
       "3.3333333333333335"
      ]
     },
     "execution_count": 7,
     "metadata": {},
     "output_type": "execute_result"
    }
   ],
   "source": [
    "## This will convert 200 minutes into hours by dividing by 60.\n",
    "200/60"
   ]
  },
  {
   "cell_type": "markdown",
   "id": "d1cd8745-ad9a-4a43-9daf-c16b6f0ceac0",
   "metadata": {},
   "source": [
    "__Objective__\n",
    "* List popular languages using data science.\n",
    "* List popular libraries using data Scinece.\n",
    "* Lists are well known data science tool."
   ]
  },
  {
   "cell_type": "markdown",
   "id": "f21694da-ca45-40d0-b7dd-a1b8d5acd3a3",
   "metadata": {},
   "source": [
    "__AUTHOR'S NAME__   \n",
    "M.Nithin"
   ]
  }
 ],
 "metadata": {
  "kernelspec": {
   "display_name": "Python 3 (ipykernel)",
   "language": "python",
   "name": "python3"
  },
  "language_info": {
   "codemirror_mode": {
    "name": "ipython",
    "version": 3
   },
   "file_extension": ".py",
   "mimetype": "text/x-python",
   "name": "python",
   "nbconvert_exporter": "python",
   "pygments_lexer": "ipython3",
   "version": "3.10.5"
  }
 },
 "nbformat": 4,
 "nbformat_minor": 5
}
